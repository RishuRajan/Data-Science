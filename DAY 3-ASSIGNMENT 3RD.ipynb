{
 "cells": [
  {
   "cell_type": "code",
   "execution_count": 1,
   "metadata": {},
   "outputs": [],
   "source": [
    "import numpy as np"
   ]
  },
  {
   "cell_type": "code",
   "execution_count": 6,
   "metadata": {},
   "outputs": [
    {
     "name": "stdout",
     "output_type": "stream",
     "text": [
      "[ 2  5  8 11 14 17 20 23 26 29 32 35 38 41 44 47 50]\n"
     ]
    }
   ],
   "source": [
    "#Q1)Create a numpy array starting from 2 till 50 with a stepsize of 3.\n",
    "#CODE-\n",
    "arr = np.arange(2,51,3)\n",
    "print(arr)"
   ]
  },
  {
   "cell_type": "code",
   "execution_count": 12,
   "metadata": {},
   "outputs": [],
   "source": [
    "import numpy"
   ]
  },
  {
   "cell_type": "code",
   "execution_count": 16,
   "metadata": {},
   "outputs": [
    {
     "name": "stdout",
     "output_type": "stream",
     "text": [
      "Enter size of list 1st:-5\n",
      "Enter Any Five Elemets in List 1st:-\n",
      "82\n",
      "4\n",
      "12\n",
      "36\n",
      "75\n",
      "Enter size of list 2nd:-5\n",
      "Enter Any Five Elements in list 2nd:-\n",
      "12\n",
      "3\n",
      "1\n",
      "74\n",
      "56\n",
      "list converted to numpy arrays:-\n",
      "[82  4 12 36 75]\n",
      "[12  3  1 74 56]\n",
      "Numpy array After concatenation:-\n",
      "[82  4 12 36 75 12  3  1 74 56]\n",
      "Numpy arrays after sorting:-\n",
      "[ 4 12 36 75 82]\n",
      "[ 1  3 12 56 74]\n"
     ]
    }
   ],
   "source": [
    "#Q2)Accept two lists of 5 elements each from the user.Convert them to numpy arrays. Concatenate these arrays and print it. Also sort these arrays and print it.\n",
    "#CODE-\n",
    "list1 = []\n",
    "n1 = int(input(\"Enter size of list 1st:-\"))\n",
    "print(\"Enter Any Five Elemets in List 1st:-\")\n",
    "for i in range(0,n1):\n",
    "    x = int(input())  \n",
    "    list1.append(x)\n",
    "list2 = []\n",
    "n2 = int(input(\"Enter size of list 2nd:-\"))\n",
    "print(\"Enter Any Five Elements in list 2nd:-\")\n",
    "for j in range(0,n2):\n",
    "    y = int(input())\n",
    "    list2.append(y)\n",
    "\n",
    "# convert both list to numpy array\n",
    "print(\"list converted to numpy arrays:-\")\n",
    "arr1 = numpy.array(list1)\n",
    "arr2 = numpy.array(list2)\n",
    "print(arr1)\n",
    "print(arr2)\n",
    "\n",
    "# concatenate these two arrays and print it\n",
    "print(\"Numpy array After concatenation:-\")\n",
    "print(np.concatenate((arr1,arr2)))\n",
    "\n",
    "#sort these numpy arrays and print it\n",
    "print(\"Numpy arrays after sorting:-\")\n",
    "array1 = np.sort(arr1)\n",
    "array2 = np.sort(arr2)\n",
    "\n",
    "print(array1)\n",
    "print(array2)\n",
    "\n",
    "    "
   ]
  },
  {
   "cell_type": "code",
   "execution_count": 17,
   "metadata": {},
   "outputs": [
    {
     "name": "stdout",
     "output_type": "stream",
     "text": [
      "Dimensions of a 2D numpy array using ndarray.shape \n",
      "2D Numpy Array\n",
      "[[11 12 13 11]\n",
      " [21 22 23 24]\n",
      " [31 32 33 34]]\n",
      "Number of Rows :  3\n",
      "Number of Columns :  4\n",
      "Total Number of elements in 2D Numpy array :  12\n",
      "Dimensions of a 1D numpy array using ndarray.shape \n",
      "Original Array :  [ 4  5  6  7  8  9 10 11]\n",
      "Shape of 1D numpy array :  (8,)\n",
      "length of 1D numpy array :  8\n",
      "Dimensions of a 2D numpy array using np.size()\n",
      "2D Numpy Array\n",
      "[[11 12 13 11]\n",
      " [21 22 23 24]\n",
      " [31 32 33 34]]\n",
      "Number of Rows :  3\n",
      "Number of Columns :  4\n",
      "Total Number of elements in 2D Numpy array :  12\n",
      "Dimensions of a 3D numpy array using np.size()\n",
      "3D Numpy Array\n",
      "[[[11 12 13 11]\n",
      "  [21 22 23 24]\n",
      "  [31 32 33 34]]\n",
      "\n",
      " [[ 1  1  1  1]\n",
      "  [ 2  2  2  2]\n",
      "  [ 3  3  3  3]]]\n",
      "Axis 0 size :  2\n",
      "Axis 1 size :  3\n",
      "Axis 2 size :  4\n",
      "Total Number of elements in 3D Numpy array :  24\n",
      "Dimension by axis :  (2, 3, 4)\n",
      "Dimensions of a 1D numpy array using numpy.size()\n",
      "Original Array :  [ 4  5  6  7  8  9 10 11]\n",
      "Length of 1D numpy array :  8\n"
     ]
    }
   ],
   "source": [
    "#Q3)Write a code snippet to find the dimensions of a ndarray and its size.\n",
    "#CODE-\n",
    "import numpy as np\n",
    "def main():\n",
    "  print(\"Dimensions of a 2D numpy array using ndarray.shape \")\n",
    "\n",
    "  # Create a 2D Numpy array list of list\n",
    "  arr2D = np.array([[11 ,12,13,11], [21, 22, 23, 24], [31,32,33,34]])\n",
    "  print('2D Numpy Array')\n",
    "  print(arr2D)\n",
    "\n",
    "  # get number of rows in 2D numpy array\n",
    "  numOfRows = arr2D.shape[0]\n",
    "  # get number of columns in 2D numpy array\n",
    "  numOfColumns = arr2D.shape[1]\n",
    "  print('Number of Rows : ', numOfRows)\n",
    "  print('Number of Columns : ', numOfColumns)\n",
    "  print('Total Number of elements in 2D Numpy array : ', arr2D.shape[0] * arr2D.shape[1])\n",
    "  print(\"Dimensions of a 1D numpy array using ndarray.shape \")\n",
    "\n",
    "  # Create a Numpy array from list of numbers\n",
    "  arr = np.array([4, 5, 6, 7, 8, 9, 10, 11])\n",
    "  print('Original Array : ', arr)\n",
    "  print('Shape of 1D numpy array : ', arr.shape)\n",
    "  print('length of 1D numpy array : ', arr.shape[0])\n",
    "  print(\"Dimensions of a 2D numpy array using np.size()\")\n",
    "\n",
    "  # Create a 2D Numpy array list of list\n",
    "  arr2D = np.array([[11, 12, 13, 11], [21, 22, 23, 24], [31, 32, 33, 34]])\n",
    "  print('2D Numpy Array')\n",
    "  print(arr2D)\n",
    "  # get number of rows in 2D numpy array\n",
    "  numOfRows = np.size(arr2D, 0)\n",
    "  # get number of columns in 2D numpy array\n",
    "  numOfColumns = np.size(arr2D, 1)\n",
    "  print('Number of Rows : ', numOfRows)\n",
    "  print('Number of Columns : ', numOfColumns)\n",
    "  print('Total Number of elements in 2D Numpy array : ', np.size(arr2D))\n",
    "  print(\"Dimensions of a 3D numpy array using np.size()\")\n",
    "\n",
    "  # Create a 3D Numpy array list of list of list\n",
    "  arr3D = np.array([ [[11, 12, 13, 11], [21, 22, 23, 24], [31, 32, 33, 34]],\n",
    "                   [[1, 1, 1, 1], [2, 2, 2, 2], [3, 3, 3, 3]] ])\n",
    "  print('3D Numpy Array')\n",
    "  print(arr3D)\n",
    "  print('Axis 0 size : ', np.size(arr3D, 0))\n",
    "  print('Axis 1 size : ', np.size(arr3D, 1))\n",
    "  print('Axis 2 size : ', np.size(arr3D, 2))\n",
    "  print('Total Number of elements in 3D Numpy array : ', np.size(arr3D))\n",
    "  print('Dimension by axis : ', arr3D.shape)\n",
    "  print(\"Dimensions of a 1D numpy array using numpy.size()\")\n",
    "\n",
    "  # Create a Numpy array from list of numbers\n",
    "  arr = np.array([4, 5, 6, 7, 8, 9, 10, 11])\n",
    "  print('Original Array : ', arr)\n",
    "  print('Length of 1D numpy array : ', np.size(arr))\n",
    "if __name__ == '__main__':\n",
    "  main()"
   ]
  },
  {
   "cell_type": "code",
   "execution_count": 23,
   "metadata": {},
   "outputs": [
    {
     "name": "stdout",
     "output_type": "stream",
     "text": [
      "Convert a 1D array into a 2D array:-\n",
      "Enter size of list:-9\n",
      "Enter Any 9 Elements:-\n",
      "1\n",
      "2\n",
      "3\n",
      "4\n",
      "5\n",
      "6\n",
      "7\n",
      "8\n",
      "9\n",
      "1D array be:-\n",
      "[1 2 3 4 5 6 7 8 9]\n",
      "Enter any dimension of 2D array in which you want to change 1D array:-\n",
      "3\n",
      "3\n",
      "Required 2D array of 3 rows and  3 columns be-\n",
      "[[1 2 3]\n",
      " [4 5 6]\n",
      " [7 8 9]]\n"
     ]
    }
   ],
   "source": [
    "#Q4)How to convert a 1D array into a 2D array? Demonstrate with the help of a code snippet\n",
    "#CODE-\n",
    "import numpy as np\n",
    "print(\"Convert a 1D array into a 2D array:-\")\n",
    "list = []\n",
    "n = int(input(\"Enter size of list:-\"))\n",
    "print(\"Enter Any\",n,\"Elements:-\")\n",
    "for i in range(0,n):\n",
    "    ele = int(input())\n",
    "    list.append(ele)\n",
    "print(\"1D array be:-\")\n",
    "array_1D = np.array(list)\n",
    "print(array_1D)\n",
    "    \n",
    "print(\"Enter any dimension of 2D array in which you want to change 1D array:-\")\n",
    "x = int(input())\n",
    "y = int(input())\n",
    "    \n",
    "#converting 1D array to 2D array\n",
    "array_2D = np.reshape(array_1D,(x,y))\n",
    "print(\"Required 2D array of\",x,\"rows and \",y,\"columns be-\")\n",
    "print(array_2D)\n"
   ]
  },
  {
   "cell_type": "code",
   "execution_count": 32,
   "metadata": {},
   "outputs": [
    {
     "name": "stdout",
     "output_type": "stream",
     "text": [
      "Given two square numpy are be:-\n",
      "[[1 2 3]\n",
      " [4 5 6]\n",
      " [7 8 9]]\n",
      "[[ 82  90   7]\n",
      " [890 234   8]\n",
      " [ 23  89  56]]\n",
      "stack both array vertically:-\n",
      "[[  1   2   3]\n",
      " [  4   5   6]\n",
      " [  7   8   9]\n",
      " [ 82  90   7]\n",
      " [890 234   8]\n",
      " [ 23  89  56]]\n",
      "stack both array horizontally:-\n",
      "[[  1   2   3  82  90   7]\n",
      " [  4   5   6 890 234   8]\n",
      " [  7   8   9  23  89  56]]\n"
     ]
    }
   ],
   "source": [
    "#Q5)Consider two square numpy arrays. Stack them vertically and horizontally.\n",
    "#CODE-\n",
    "import numpy as np\n",
    "\n",
    "print(\"Given two square numpy are be:-\")\n",
    "array1 = np.array([[1,2,3],[4,5,6],[7,8,9]])\n",
    "array2 = np.array([[82,90,7],[890,234,8],[23,89,56]])\n",
    "print(array1)\n",
    "print(array2)\n",
    "\n",
    "a1 = np.vstack((array1, array2))\n",
    "print(\"stack both array vertically:-\")\n",
    "print(a1)\n",
    "\n",
    "print(\"stack both array horizontally:-\")\n",
    "a2 = np.hstack((array1, array2))\n",
    "print(a2)\n",
    "    "
   ]
  },
  {
   "cell_type": "code",
   "execution_count": 48,
   "metadata": {},
   "outputs": [
    {
     "name": "stdout",
     "output_type": "stream",
     "text": [
      "[1 1 2 3 3 4]\n",
      "printing the unique Elements in array:-\n",
      "[1 2 3 4]\n",
      "printing no. of unique items in given array:- 4\n"
     ]
    }
   ],
   "source": [
    "#Q6)How to get unique items and counts of unique items?\n",
    "#CODE-\n",
    "#solving by assuming we have to perform this on different data structure in python\n",
    "import numpy as np\n",
    "x = np.array([1, 1, 2,3, 3,4])\n",
    "print(x)\n",
    "print(\"printing the unique Elements in array:-\")\n",
    "k = np.unique(x)\n",
    "print(k)\n",
    "print(\"printing no. of unique items in given array:-\",len(np.unique(x)))\n"
   ]
  },
  {
   "cell_type": "code",
   "execution_count": null,
   "metadata": {},
   "outputs": [],
   "source": []
  }
 ],
 "metadata": {
  "kernelspec": {
   "display_name": "Python 3",
   "language": "python",
   "name": "python3"
  },
  "language_info": {
   "codemirror_mode": {
    "name": "ipython",
    "version": 3
   },
   "file_extension": ".py",
   "mimetype": "text/x-python",
   "name": "python",
   "nbconvert_exporter": "python",
   "pygments_lexer": "ipython3",
   "version": "3.8.3"
  }
 },
 "nbformat": 4,
 "nbformat_minor": 4
}
