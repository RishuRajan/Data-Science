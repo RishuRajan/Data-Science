{
 "cells": [
  {
   "cell_type": "code",
   "execution_count": 1,
   "metadata": {},
   "outputs": [
    {
     "name": "stdout",
     "output_type": "stream",
     "text": [
      "Enter the list size : 10\n",
      "\n",
      "\n",
      "Enter number at index 0 :\n",
      "12\n",
      "Enter number at index 1 :\n",
      "45\n",
      "Enter number at index 2 :\n",
      "77\n",
      "Enter number at index 3 :\n",
      "65\n",
      "Enter number at index 4 :\n",
      "82\n",
      "Enter number at index 5 :\n",
      "99\n",
      "Enter number at index 6 :\n",
      "41\n",
      "Enter number at index 7 :\n",
      "23\n",
      "Enter number at index 8 :\n",
      "10\n",
      "Enter number at index 9 :\n",
      "22\n",
      "[12, 82, 10, 22]\n"
     ]
    }
   ],
   "source": [
    "#Q1)Create an empty list. Accept 10 numbers from the user and append to it the list if it is an even number\n",
    "#CODE-\n",
    "numberList = []\n",
    "n = int(input(\"Enter the list size : \"))\n",
    "\n",
    "print(\"\\n\")\n",
    "for i in range(0, n):\n",
    "    print(\"Enter number at index\", i, \":\")\n",
    "    item = int(input())\n",
    "    if item%2==0:\n",
    "        numberList.append(item)\n",
    "print(numberList)"
   ]
  },
  {
   "cell_type": "code",
   "execution_count": 2,
   "metadata": {},
   "outputs": [
    {
     "name": "stdout",
     "output_type": "stream",
     "text": [
      "['h', 'u', 'm', 'a', 'n']\n"
     ]
    }
   ],
   "source": [
    "#Q2)Create a notebook on LIST COMPREHENSION. This exercise is to put you in a Self learning mode\n",
    "#CODE-\n",
    "'''=>LIST COMPREHENSION is a simple but powerful technique and can help you accomplish a variety of tasks with ease. Things to keep in mind:-\n",
    "A)LC will always return a result, whether you use the result or nor.\n",
    "B)The iteration and conditional expressions can be nested with multiple instances.\n",
    "C)Even the overall LC can be nested inside another LC.\n",
    "D)Multiple variables can be iterated and manipulated at same time.\n",
    "'''\n",
    "#EXAMPLE AND ITS CODE-\n",
    "# Iterating through a string Using List Comprehension\n",
    "h_letters = [ letter for letter in 'human' ]\n",
    "print( h_letters)"
   ]
  },
  {
   "cell_type": "code",
   "execution_count": 3,
   "metadata": {},
   "outputs": [
    {
     "name": "stdout",
     "output_type": "stream",
     "text": [
      "4\n",
      "{1: 1, 2: 4, 3: 9, 4: 16}"
     ]
    }
   ],
   "source": [
    "'''\n",
    "Q3)In this assignment, given a number n, you have to write a program that generates a dictionary d which\n",
    "contains (i, i*i), where i is from 1 to n (both included).\n",
    "Then you have to just print this dictionary d.\n",
    "'''\n",
    "#CODE-\n",
    "n = int(input())\n",
    "d={}\n",
    "for i in range(n):\n",
    "  d[i+1]=(i+1)**2\n",
    "\n",
    "print(d,end=\"\")"
   ]
  },
  {
   "cell_type": "code",
   "execution_count": 8,
   "metadata": {},
   "outputs": [
    {
     "name": "stdout",
     "output_type": "stream",
     "text": [
      "4\n",
      "UP 5\n",
      "DOWN 3\n",
      "LEFT 3\n",
      "RIGHT 2\n",
      "2\n"
     ]
    }
   ],
   "source": [
    "'''\n",
    "Q4)There is a robot which wants to go the charging point to charge itself.\n",
    "The robot moves in a 2-D plane from the original point (0,0). The robot can\n",
    "move toward UP, DOWN, LEFT and RIGHT with given steps.\n",
    "The trace of robot movement is shown as the following:\n",
    "UP 5\n",
    "DOWN 3\n",
    "LEFT 3\n",
    "RIGHT 2\n",
    "Then, the output of the program should be:\n",
    "2\n",
    "The numbers after the direction are steps.\n",
    "Write a program to compute the distance between the current position after\n",
    "a sequence of movement and original point. If the distance is a float, then\n",
    "just print the nearest integer (use round() function for that and then convert\n",
    "it into an integer).\n",
    "Input Format:\n",
    "The first line of the input contains a number n which implies the number of\n",
    "directions to be given.\n",
    "The next n lines contain the direction and the step separated by a space.\n",
    "Output Format:\n",
    "Print the distance from the original position to the current position\n",
    "'''\n",
    "#CODE-\n",
    "import math\n",
    "initial_pos = [0,0]\n",
    "n = int(input())\n",
    "for i in range(n):\n",
    "    s = input()\n",
    "    movement = s.split(\" \")\n",
    "    direction = movement[0]\n",
    "    steps = int(movement[1])\n",
    "    if direction==\"UP\":\n",
    "        initial_pos[0]+=steps\n",
    "    elif direction==\"DOWN\":\n",
    "        initial_pos[0]-=steps\n",
    "    elif direction==\"LEFT\":\n",
    "        initial_pos[1]-=steps\n",
    "    elif direction==\"RIGHT\":\n",
    "        initial_pos[1]+=steps\n",
    "    else:\n",
    "        pass\n",
    "print(int(round(math.sqrt(pos[1]**2+pos[0]**2))))\n"
   ]
  },
  {
   "cell_type": "code",
   "execution_count": null,
   "metadata": {},
   "outputs": [],
   "source": []
  }
 ],
 "metadata": {
  "kernelspec": {
   "display_name": "Python 3",
   "language": "python",
   "name": "python3"
  },
  "language_info": {
   "codemirror_mode": {
    "name": "ipython",
    "version": 3
   },
   "file_extension": ".py",
   "mimetype": "text/x-python",
   "name": "python",
   "nbconvert_exporter": "python",
   "pygments_lexer": "ipython3",
   "version": "3.8.3"
  }
 },
 "nbformat": 4,
 "nbformat_minor": 4
}
